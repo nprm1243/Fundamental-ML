{
 "cells": [
  {
   "cell_type": "code",
   "execution_count": 9,
   "metadata": {},
   "outputs": [],
   "source": [
    "import os\n",
    "\n",
    "import pandas as pd\n",
    "import numpy as np\n",
    "from matplotlib import pyplot as plt\n",
    "\n",
    "import torch\n",
    "from torch.utils.data import Dataset\n",
    "from torchvision import datasets\n",
    "from torchvision.transforms import ToTensor\n",
    "from torch import nn\n",
    "from torch.utils.data import DataLoader\n",
    "from torchvision.utils import make_grid, save_image\n",
    "from torchvision.transforms import ToTensor, Resize, RandomCrop, RandomRotation, Normalize, Compose, RandomHorizontalFlip, ToPILImage, ColorJitter, GaussianBlur, RandomAdjustSharpness\n",
    "\n",
    "import cv2\n",
    "from cv2 import imread, imwrite\n",
    "from tqdm import tqdm\n",
    "\n",
    "from sklearn.model_selection import train_test_split"
   ]
  },
  {
   "cell_type": "code",
   "execution_count": 10,
   "metadata": {},
   "outputs": [
    {
     "name": "stdout",
     "output_type": "stream",
     "text": [
      "[3165, 363, 3274, 5711, 3929, 2542, 3983]\n"
     ]
    }
   ],
   "source": [
    "classes = []\n",
    "for item in range(7):\n",
    "    classes.append(len(os.listdir(f'../data/images/train/{item}/')))\n",
    "print(classes)"
   ]
  },
  {
   "cell_type": "code",
   "execution_count": 11,
   "metadata": {},
   "outputs": [],
   "source": [
    "MAX_NUM = 4000"
   ]
  },
  {
   "cell_type": "code",
   "execution_count": 12,
   "metadata": {},
   "outputs": [],
   "source": [
    "transforms = Compose([\n",
    "    ToPILImage(),\n",
    "    RandomRotation(degrees=5, fill = 255),\n",
    "    RandomHorizontalFlip(p=0.5),\n",
    "    ColorJitter(brightness=0.1, contrast =0.1, saturation =0.1),\n",
    "    # GaussianBlur(kernel_size=(3, 3), sigma=(0.01, 0.3)),\n",
    "    RandomAdjustSharpness(sharpness_factor = 0, p=0.3),\n",
    "    ToTensor(),\n",
    "    Normalize(mean=(0.5,), std=(0.5,)),\n",
    "    Resize((48, 48)),\n",
    "])"
   ]
  },
  {
   "cell_type": "code",
   "execution_count": 13,
   "metadata": {},
   "outputs": [
    {
     "name": "stdout",
     "output_type": "stream",
     "text": [
      "0 835\n",
      "1 3637\n",
      "2 726\n",
      "4 71\n",
      "5 1458\n",
      "6 17\n"
     ]
    }
   ],
   "source": [
    "totensor = ToTensor()\n",
    "index = 1\n",
    "for item in range(7):\n",
    "    path = f'../data/images/train/{item}'\n",
    "    list_of_image = os.listdir(path)\n",
    "    class_size = len(list_of_image)\n",
    "    if class_size > MAX_NUM:\n",
    "        continue\n",
    "    need_to_append = MAX_NUM - class_size\n",
    "    print(item, need_to_append)\n",
    "    while need_to_append > 0:\n",
    "        for image_name in list_of_image:\n",
    "            image_path = f'{path}/{image_name}'\n",
    "            image = imread(image_path)\n",
    "            image = totensor(image)\n",
    "            new_image = transforms(image)\n",
    "            # print(image.shape, new_image.shape)\n",
    "            # fig, ax = plt.subplots(1, 2, figsize=(3, 6))\n",
    "            # ax[0].imshow(image[1, :, :], cmap='gray')\n",
    "            # ax[1].imshow(new_image[1, :, :], cmap='gray')\n",
    "            save_image(new_image[1, :, :], f'{path}/augmented_{index}_{image_name}', normalize=True)\n",
    "            need_to_append -= 1\n",
    "            index += 1\n",
    "            if (need_to_append <= 0):\n",
    "                break\n",
    "            "
   ]
  },
  {
   "cell_type": "code",
   "execution_count": 14,
   "metadata": {},
   "outputs": [
    {
     "name": "stdout",
     "output_type": "stream",
     "text": [
      "[4000, 4000, 4000, 5711, 4000, 4000, 4000]\n"
     ]
    }
   ],
   "source": [
    "classes = []\n",
    "for item in range(7):\n",
    "    classes.append(len(os.listdir(f'../data/images/train/{item}/')))\n",
    "print(classes)"
   ]
  }
 ],
 "metadata": {
  "kernelspec": {
   "display_name": "base",
   "language": "python",
   "name": "python3"
  },
  "language_info": {
   "codemirror_mode": {
    "name": "ipython",
    "version": 3
   },
   "file_extension": ".py",
   "mimetype": "text/x-python",
   "name": "python",
   "nbconvert_exporter": "python",
   "pygments_lexer": "ipython3",
   "version": "3.11.7"
  }
 },
 "nbformat": 4,
 "nbformat_minor": 2
}
